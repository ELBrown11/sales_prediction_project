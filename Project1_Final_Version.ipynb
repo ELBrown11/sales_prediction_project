{
  "nbformat": 4,
  "nbformat_minor": 0,
  "metadata": {
    "colab": {
      "name": "Project1_Final Version.ipynb",
      "provenance": [],
      "toc_visible": true,
      "mount_file_id": "1RvaFlUnEYxQt_oDJ50AanTrkllX-nuWK",
      "authorship_tag": "ABX9TyOL0BjEjAGQcJke+f+9I9fZ",
      "include_colab_link": true
    },
    "kernelspec": {
      "name": "python3",
      "display_name": "Python 3"
    },
    "language_info": {
      "name": "python"
    }
  },
  "cells": [
    {
      "cell_type": "markdown",
      "metadata": {
        "id": "view-in-github",
        "colab_type": "text"
      },
      "source": [
        "<a href=\"https://colab.research.google.com/github/ELBrown11/sales_prediction_project/blob/main/Project1_Final_Version.ipynb\" target=\"_parent\"><img src=\"https://colab.research.google.com/assets/colab-badge.svg\" alt=\"Open In Colab\"/></a>"
      ]
    },
    {
      "cell_type": "markdown",
      "source": [
        "# **Food Sales Prediction Project**\n",
        "\n",
        "The data contains different features related to sales of food items sold a numerous grocery store. We want to help a retailer understand the importance of the different features/properties of the products they're selling. As well as the role of different outlets in increasing the sales of the products.\n",
        "\n",
        "\n",
        "make predictions about that data collected from their stores"
      ],
      "metadata": {
        "id": "_j49L2d7I02y"
      }
    },
    {
      "cell_type": "markdown",
      "source": [
        "## **Mounting and Importing Data**"
      ],
      "metadata": {
        "id": "07xgqC5vLurQ"
      }
    },
    {
      "cell_type": "code",
      "metadata": {
        "colab": {
          "base_uri": "https://localhost:8080/"
        },
        "id": "w6SrvxnG9vFE",
        "outputId": "bf366e0f-fd05-4b57-e1f7-5bbeb55a13ee"
      },
      "source": [
        "#mount data\n",
        "from google.colab import drive\n",
        "drive.mount('/content/drive')"
      ],
      "execution_count": 1,
      "outputs": [
        {
          "output_type": "stream",
          "name": "stdout",
          "text": [
            "Drive already mounted at /content/drive; to attempt to forcibly remount, call drive.mount(\"/content/drive\", force_remount=True).\n"
          ]
        }
      ]
    },
    {
      "cell_type": "code",
      "metadata": {
        "id": "5DNj_tuWvu5O",
        "colab": {
          "base_uri": "https://localhost:8080/",
          "height": 357
        },
        "outputId": "5fbc2353-941c-4c80-9602-eb79dd400031"
      },
      "source": [
        "#import pandas library\n",
        "import pandas as pd\n",
        "filename = '/content/drive/MyDrive/Coding Dojo Bootcamp/sales_predictions.csv'\n",
        "#view first 5 rows of data\n",
        "sales_data = pd.read_csv(filename)\n",
        "\n",
        "\n",
        "sales_data.head()"
      ],
      "execution_count": 2,
      "outputs": [
        {
          "output_type": "execute_result",
          "data": {
            "text/html": [
              "\n",
              "  <div id=\"df-27861046-0190-4226-81e9-16bc8db9a2e9\">\n",
              "    <div class=\"colab-df-container\">\n",
              "      <div>\n",
              "<style scoped>\n",
              "    .dataframe tbody tr th:only-of-type {\n",
              "        vertical-align: middle;\n",
              "    }\n",
              "\n",
              "    .dataframe tbody tr th {\n",
              "        vertical-align: top;\n",
              "    }\n",
              "\n",
              "    .dataframe thead th {\n",
              "        text-align: right;\n",
              "    }\n",
              "</style>\n",
              "<table border=\"1\" class=\"dataframe\">\n",
              "  <thead>\n",
              "    <tr style=\"text-align: right;\">\n",
              "      <th></th>\n",
              "      <th>Item_Identifier</th>\n",
              "      <th>Item_Weight</th>\n",
              "      <th>Item_Fat_Content</th>\n",
              "      <th>Item_Visibility</th>\n",
              "      <th>Item_Type</th>\n",
              "      <th>Item_MRP</th>\n",
              "      <th>Outlet_Identifier</th>\n",
              "      <th>Outlet_Establishment_Year</th>\n",
              "      <th>Outlet_Size</th>\n",
              "      <th>Outlet_Location_Type</th>\n",
              "      <th>Outlet_Type</th>\n",
              "      <th>Item_Outlet_Sales</th>\n",
              "    </tr>\n",
              "  </thead>\n",
              "  <tbody>\n",
              "    <tr>\n",
              "      <th>0</th>\n",
              "      <td>FDA15</td>\n",
              "      <td>9.30</td>\n",
              "      <td>Low Fat</td>\n",
              "      <td>0.016047</td>\n",
              "      <td>Dairy</td>\n",
              "      <td>249.8092</td>\n",
              "      <td>OUT049</td>\n",
              "      <td>1999</td>\n",
              "      <td>Medium</td>\n",
              "      <td>Tier 1</td>\n",
              "      <td>Supermarket Type1</td>\n",
              "      <td>3735.1380</td>\n",
              "    </tr>\n",
              "    <tr>\n",
              "      <th>1</th>\n",
              "      <td>DRC01</td>\n",
              "      <td>5.92</td>\n",
              "      <td>Regular</td>\n",
              "      <td>0.019278</td>\n",
              "      <td>Soft Drinks</td>\n",
              "      <td>48.2692</td>\n",
              "      <td>OUT018</td>\n",
              "      <td>2009</td>\n",
              "      <td>Medium</td>\n",
              "      <td>Tier 3</td>\n",
              "      <td>Supermarket Type2</td>\n",
              "      <td>443.4228</td>\n",
              "    </tr>\n",
              "    <tr>\n",
              "      <th>2</th>\n",
              "      <td>FDN15</td>\n",
              "      <td>17.50</td>\n",
              "      <td>Low Fat</td>\n",
              "      <td>0.016760</td>\n",
              "      <td>Meat</td>\n",
              "      <td>141.6180</td>\n",
              "      <td>OUT049</td>\n",
              "      <td>1999</td>\n",
              "      <td>Medium</td>\n",
              "      <td>Tier 1</td>\n",
              "      <td>Supermarket Type1</td>\n",
              "      <td>2097.2700</td>\n",
              "    </tr>\n",
              "    <tr>\n",
              "      <th>3</th>\n",
              "      <td>FDX07</td>\n",
              "      <td>19.20</td>\n",
              "      <td>Regular</td>\n",
              "      <td>0.000000</td>\n",
              "      <td>Fruits and Vegetables</td>\n",
              "      <td>182.0950</td>\n",
              "      <td>OUT010</td>\n",
              "      <td>1998</td>\n",
              "      <td>NaN</td>\n",
              "      <td>Tier 3</td>\n",
              "      <td>Grocery Store</td>\n",
              "      <td>732.3800</td>\n",
              "    </tr>\n",
              "    <tr>\n",
              "      <th>4</th>\n",
              "      <td>NCD19</td>\n",
              "      <td>8.93</td>\n",
              "      <td>Low Fat</td>\n",
              "      <td>0.000000</td>\n",
              "      <td>Household</td>\n",
              "      <td>53.8614</td>\n",
              "      <td>OUT013</td>\n",
              "      <td>1987</td>\n",
              "      <td>High</td>\n",
              "      <td>Tier 3</td>\n",
              "      <td>Supermarket Type1</td>\n",
              "      <td>994.7052</td>\n",
              "    </tr>\n",
              "  </tbody>\n",
              "</table>\n",
              "</div>\n",
              "      <button class=\"colab-df-convert\" onclick=\"convertToInteractive('df-27861046-0190-4226-81e9-16bc8db9a2e9')\"\n",
              "              title=\"Convert this dataframe to an interactive table.\"\n",
              "              style=\"display:none;\">\n",
              "        \n",
              "  <svg xmlns=\"http://www.w3.org/2000/svg\" height=\"24px\"viewBox=\"0 0 24 24\"\n",
              "       width=\"24px\">\n",
              "    <path d=\"M0 0h24v24H0V0z\" fill=\"none\"/>\n",
              "    <path d=\"M18.56 5.44l.94 2.06.94-2.06 2.06-.94-2.06-.94-.94-2.06-.94 2.06-2.06.94zm-11 1L8.5 8.5l.94-2.06 2.06-.94-2.06-.94L8.5 2.5l-.94 2.06-2.06.94zm10 10l.94 2.06.94-2.06 2.06-.94-2.06-.94-.94-2.06-.94 2.06-2.06.94z\"/><path d=\"M17.41 7.96l-1.37-1.37c-.4-.4-.92-.59-1.43-.59-.52 0-1.04.2-1.43.59L10.3 9.45l-7.72 7.72c-.78.78-.78 2.05 0 2.83L4 21.41c.39.39.9.59 1.41.59.51 0 1.02-.2 1.41-.59l7.78-7.78 2.81-2.81c.8-.78.8-2.07 0-2.86zM5.41 20L4 18.59l7.72-7.72 1.47 1.35L5.41 20z\"/>\n",
              "  </svg>\n",
              "      </button>\n",
              "      \n",
              "  <style>\n",
              "    .colab-df-container {\n",
              "      display:flex;\n",
              "      flex-wrap:wrap;\n",
              "      gap: 12px;\n",
              "    }\n",
              "\n",
              "    .colab-df-convert {\n",
              "      background-color: #E8F0FE;\n",
              "      border: none;\n",
              "      border-radius: 50%;\n",
              "      cursor: pointer;\n",
              "      display: none;\n",
              "      fill: #1967D2;\n",
              "      height: 32px;\n",
              "      padding: 0 0 0 0;\n",
              "      width: 32px;\n",
              "    }\n",
              "\n",
              "    .colab-df-convert:hover {\n",
              "      background-color: #E2EBFA;\n",
              "      box-shadow: 0px 1px 2px rgba(60, 64, 67, 0.3), 0px 1px 3px 1px rgba(60, 64, 67, 0.15);\n",
              "      fill: #174EA6;\n",
              "    }\n",
              "\n",
              "    [theme=dark] .colab-df-convert {\n",
              "      background-color: #3B4455;\n",
              "      fill: #D2E3FC;\n",
              "    }\n",
              "\n",
              "    [theme=dark] .colab-df-convert:hover {\n",
              "      background-color: #434B5C;\n",
              "      box-shadow: 0px 1px 3px 1px rgba(0, 0, 0, 0.15);\n",
              "      filter: drop-shadow(0px 1px 2px rgba(0, 0, 0, 0.3));\n",
              "      fill: #FFFFFF;\n",
              "    }\n",
              "  </style>\n",
              "\n",
              "      <script>\n",
              "        const buttonEl =\n",
              "          document.querySelector('#df-27861046-0190-4226-81e9-16bc8db9a2e9 button.colab-df-convert');\n",
              "        buttonEl.style.display =\n",
              "          google.colab.kernel.accessAllowed ? 'block' : 'none';\n",
              "\n",
              "        async function convertToInteractive(key) {\n",
              "          const element = document.querySelector('#df-27861046-0190-4226-81e9-16bc8db9a2e9');\n",
              "          const dataTable =\n",
              "            await google.colab.kernel.invokeFunction('convertToInteractive',\n",
              "                                                     [key], {});\n",
              "          if (!dataTable) return;\n",
              "\n",
              "          const docLinkHtml = 'Like what you see? Visit the ' +\n",
              "            '<a target=\"_blank\" href=https://colab.research.google.com/notebooks/data_table.ipynb>data table notebook</a>'\n",
              "            + ' to learn more about interactive tables.';\n",
              "          element.innerHTML = '';\n",
              "          dataTable['output_type'] = 'display_data';\n",
              "          await google.colab.output.renderOutput(dataTable, element);\n",
              "          const docLink = document.createElement('div');\n",
              "          docLink.innerHTML = docLinkHtml;\n",
              "          element.appendChild(docLink);\n",
              "        }\n",
              "      </script>\n",
              "    </div>\n",
              "  </div>\n",
              "  "
            ],
            "text/plain": [
              "  Item_Identifier  Item_Weight  ...        Outlet_Type  Item_Outlet_Sales\n",
              "0           FDA15         9.30  ...  Supermarket Type1          3735.1380\n",
              "1           DRC01         5.92  ...  Supermarket Type2           443.4228\n",
              "2           FDN15        17.50  ...  Supermarket Type1          2097.2700\n",
              "3           FDX07        19.20  ...      Grocery Store           732.3800\n",
              "4           NCD19         8.93  ...  Supermarket Type1           994.7052\n",
              "\n",
              "[5 rows x 12 columns]"
            ]
          },
          "metadata": {},
          "execution_count": 2
        }
      ]
    },
    {
      "cell_type": "markdown",
      "source": [
        "|Column Names | Description of Data |\n",
        "|:--------|:--------------------|\n",
        "|Item_Identifier| unique product ID|\n",
        "|Item_Weight | weight of product|\n",
        "|Item_Fat_Content| whether the product is low far or regular|\n",
        "|Item_Visibility| the percentage of total display are of all product in a store allocated to the particular product|\n",
        "|Item_Type| the category to which the product belongs|\n",
        "|Item_MRP| maximum retail price (list price) of the product|\n",
        "|Outlet_Identifier| unique store ID|\n",
        "|Outlet_Establishment_Year| the year in which store was established|\n",
        "|Outlet_Size| the size of the store in terms of ground area covered|\n",
        "|Outlet_Location_Type| the type of are in wich the store is located|\n",
        "|Outlet_Type| whether the outlet is a grocery store or some sort of supermarket|\n",
        "|Item_Outlet_Sales| sales of product in the particular store, this is the target to be predicted|\n",
        "\n",
        "\n",
        "\n"
      ],
      "metadata": {
        "id": "ku_k4t3dN-29"
      }
    },
    {
      "cell_type": "markdown",
      "source": [
        "- explanation of the content of each column\n",
        "- the above shows that the dataframe has 8523 columns and 12 columns"
      ],
      "metadata": {
        "id": "q5TU4aYaQ79N"
      }
    },
    {
      "cell_type": "markdown",
      "source": [
        "-----------------------\n",
        "> ### **Hypotheses**\n",
        "* looking at the content of the columns I intuitively think that `Item_Visibility` may be and important feature in predicting `Item_Outlet_Sales` because you have to see an item to buy it\n",
        "* `Item_MRP` may also be an important freature because prices of a product usually dictates if and how much of something a consumer will purchase\n",
        "* as far as outlet based features...\n",
        "  * `Outlet_Size` and `Outlet_Type` the type of store (grocery or supermarket) probabluy dictates that size of the store and size logically would dictate sales. A larger store should have greater sales\n",
        "* via explorations of the data and machine learning method we can find out if these hypotheses are in fact correct"
      ],
      "metadata": {
        "id": "JWQiB0RVSm1B"
      }
    },
    {
      "cell_type": "markdown",
      "source": [
        "## **Data Exploration**\n",
        "\n",
        "Here I look at what data is missing and duplicated. Then think about the best method for addressing these issues. "
      ],
      "metadata": {
        "id": "zXx_5Y73L7UN"
      }
    },
    {
      "cell_type": "code",
      "metadata": {
        "id": "dlLn68apyBrf",
        "colab": {
          "base_uri": "https://localhost:8080/"
        },
        "outputId": "f360360e-b3bb-43f1-c04a-a85167122c60"
      },
      "source": [
        "#data exploration of possible missing data \n",
        "sales_data.info()"
      ],
      "execution_count": 3,
      "outputs": [
        {
          "output_type": "stream",
          "name": "stdout",
          "text": [
            "<class 'pandas.core.frame.DataFrame'>\n",
            "RangeIndex: 8523 entries, 0 to 8522\n",
            "Data columns (total 12 columns):\n",
            " #   Column                     Non-Null Count  Dtype  \n",
            "---  ------                     --------------  -----  \n",
            " 0   Item_Identifier            8523 non-null   object \n",
            " 1   Item_Weight                7060 non-null   float64\n",
            " 2   Item_Fat_Content           8523 non-null   object \n",
            " 3   Item_Visibility            8523 non-null   float64\n",
            " 4   Item_Type                  8523 non-null   object \n",
            " 5   Item_MRP                   8523 non-null   float64\n",
            " 6   Outlet_Identifier          8523 non-null   object \n",
            " 7   Outlet_Establishment_Year  8523 non-null   int64  \n",
            " 8   Outlet_Size                6113 non-null   object \n",
            " 9   Outlet_Location_Type       8523 non-null   object \n",
            " 10  Outlet_Type                8523 non-null   object \n",
            " 11  Item_Outlet_Sales          8523 non-null   float64\n",
            "dtypes: float64(4), int64(1), object(7)\n",
            "memory usage: 799.2+ KB\n"
          ]
        }
      ]
    },
    {
      "cell_type": "markdown",
      "metadata": {
        "id": "lGDWJL6C_M5i"
      },
      "source": [
        "-----------------------\n",
        "* `Item_Weight` and `Outlet_Size` columns have missing values\n",
        "  * in order to avoid data leakage we can impute the missing data via `SimpleImputer()`\n",
        "    * for `Item_Weight` - impute with mean weight of all the items\n",
        "    * for `Outlet_Size` - impute with mode (most frequent) of all the outlet sizes\n",
        "-----------------------"
      ]
    },
    {
      "cell_type": "code",
      "metadata": {
        "colab": {
          "base_uri": "https://localhost:8080/",
          "height": 300
        },
        "id": "pPcTKoWCAS3q",
        "outputId": "b2a3f7ba-0f7a-4e62-a8e9-df0fd681ab7c"
      },
      "source": [
        "#summary statistics foe each numerical column\n",
        "sales_data.describe()"
      ],
      "execution_count": 4,
      "outputs": [
        {
          "output_type": "execute_result",
          "data": {
            "text/html": [
              "\n",
              "  <div id=\"df-f31f96d7-25ae-463b-89b6-6a889157ba45\">\n",
              "    <div class=\"colab-df-container\">\n",
              "      <div>\n",
              "<style scoped>\n",
              "    .dataframe tbody tr th:only-of-type {\n",
              "        vertical-align: middle;\n",
              "    }\n",
              "\n",
              "    .dataframe tbody tr th {\n",
              "        vertical-align: top;\n",
              "    }\n",
              "\n",
              "    .dataframe thead th {\n",
              "        text-align: right;\n",
              "    }\n",
              "</style>\n",
              "<table border=\"1\" class=\"dataframe\">\n",
              "  <thead>\n",
              "    <tr style=\"text-align: right;\">\n",
              "      <th></th>\n",
              "      <th>Item_Weight</th>\n",
              "      <th>Item_Visibility</th>\n",
              "      <th>Item_MRP</th>\n",
              "      <th>Outlet_Establishment_Year</th>\n",
              "      <th>Item_Outlet_Sales</th>\n",
              "    </tr>\n",
              "  </thead>\n",
              "  <tbody>\n",
              "    <tr>\n",
              "      <th>count</th>\n",
              "      <td>7060.000000</td>\n",
              "      <td>8523.000000</td>\n",
              "      <td>8523.000000</td>\n",
              "      <td>8523.000000</td>\n",
              "      <td>8523.000000</td>\n",
              "    </tr>\n",
              "    <tr>\n",
              "      <th>mean</th>\n",
              "      <td>12.857645</td>\n",
              "      <td>0.066132</td>\n",
              "      <td>140.992782</td>\n",
              "      <td>1997.831867</td>\n",
              "      <td>2181.288914</td>\n",
              "    </tr>\n",
              "    <tr>\n",
              "      <th>std</th>\n",
              "      <td>4.643456</td>\n",
              "      <td>0.051598</td>\n",
              "      <td>62.275067</td>\n",
              "      <td>8.371760</td>\n",
              "      <td>1706.499616</td>\n",
              "    </tr>\n",
              "    <tr>\n",
              "      <th>min</th>\n",
              "      <td>4.555000</td>\n",
              "      <td>0.000000</td>\n",
              "      <td>31.290000</td>\n",
              "      <td>1985.000000</td>\n",
              "      <td>33.290000</td>\n",
              "    </tr>\n",
              "    <tr>\n",
              "      <th>25%</th>\n",
              "      <td>8.773750</td>\n",
              "      <td>0.026989</td>\n",
              "      <td>93.826500</td>\n",
              "      <td>1987.000000</td>\n",
              "      <td>834.247400</td>\n",
              "    </tr>\n",
              "    <tr>\n",
              "      <th>50%</th>\n",
              "      <td>12.600000</td>\n",
              "      <td>0.053931</td>\n",
              "      <td>143.012800</td>\n",
              "      <td>1999.000000</td>\n",
              "      <td>1794.331000</td>\n",
              "    </tr>\n",
              "    <tr>\n",
              "      <th>75%</th>\n",
              "      <td>16.850000</td>\n",
              "      <td>0.094585</td>\n",
              "      <td>185.643700</td>\n",
              "      <td>2004.000000</td>\n",
              "      <td>3101.296400</td>\n",
              "    </tr>\n",
              "    <tr>\n",
              "      <th>max</th>\n",
              "      <td>21.350000</td>\n",
              "      <td>0.328391</td>\n",
              "      <td>266.888400</td>\n",
              "      <td>2009.000000</td>\n",
              "      <td>13086.964800</td>\n",
              "    </tr>\n",
              "  </tbody>\n",
              "</table>\n",
              "</div>\n",
              "      <button class=\"colab-df-convert\" onclick=\"convertToInteractive('df-f31f96d7-25ae-463b-89b6-6a889157ba45')\"\n",
              "              title=\"Convert this dataframe to an interactive table.\"\n",
              "              style=\"display:none;\">\n",
              "        \n",
              "  <svg xmlns=\"http://www.w3.org/2000/svg\" height=\"24px\"viewBox=\"0 0 24 24\"\n",
              "       width=\"24px\">\n",
              "    <path d=\"M0 0h24v24H0V0z\" fill=\"none\"/>\n",
              "    <path d=\"M18.56 5.44l.94 2.06.94-2.06 2.06-.94-2.06-.94-.94-2.06-.94 2.06-2.06.94zm-11 1L8.5 8.5l.94-2.06 2.06-.94-2.06-.94L8.5 2.5l-.94 2.06-2.06.94zm10 10l.94 2.06.94-2.06 2.06-.94-2.06-.94-.94-2.06-.94 2.06-2.06.94z\"/><path d=\"M17.41 7.96l-1.37-1.37c-.4-.4-.92-.59-1.43-.59-.52 0-1.04.2-1.43.59L10.3 9.45l-7.72 7.72c-.78.78-.78 2.05 0 2.83L4 21.41c.39.39.9.59 1.41.59.51 0 1.02-.2 1.41-.59l7.78-7.78 2.81-2.81c.8-.78.8-2.07 0-2.86zM5.41 20L4 18.59l7.72-7.72 1.47 1.35L5.41 20z\"/>\n",
              "  </svg>\n",
              "      </button>\n",
              "      \n",
              "  <style>\n",
              "    .colab-df-container {\n",
              "      display:flex;\n",
              "      flex-wrap:wrap;\n",
              "      gap: 12px;\n",
              "    }\n",
              "\n",
              "    .colab-df-convert {\n",
              "      background-color: #E8F0FE;\n",
              "      border: none;\n",
              "      border-radius: 50%;\n",
              "      cursor: pointer;\n",
              "      display: none;\n",
              "      fill: #1967D2;\n",
              "      height: 32px;\n",
              "      padding: 0 0 0 0;\n",
              "      width: 32px;\n",
              "    }\n",
              "\n",
              "    .colab-df-convert:hover {\n",
              "      background-color: #E2EBFA;\n",
              "      box-shadow: 0px 1px 2px rgba(60, 64, 67, 0.3), 0px 1px 3px 1px rgba(60, 64, 67, 0.15);\n",
              "      fill: #174EA6;\n",
              "    }\n",
              "\n",
              "    [theme=dark] .colab-df-convert {\n",
              "      background-color: #3B4455;\n",
              "      fill: #D2E3FC;\n",
              "    }\n",
              "\n",
              "    [theme=dark] .colab-df-convert:hover {\n",
              "      background-color: #434B5C;\n",
              "      box-shadow: 0px 1px 3px 1px rgba(0, 0, 0, 0.15);\n",
              "      filter: drop-shadow(0px 1px 2px rgba(0, 0, 0, 0.3));\n",
              "      fill: #FFFFFF;\n",
              "    }\n",
              "  </style>\n",
              "\n",
              "      <script>\n",
              "        const buttonEl =\n",
              "          document.querySelector('#df-f31f96d7-25ae-463b-89b6-6a889157ba45 button.colab-df-convert');\n",
              "        buttonEl.style.display =\n",
              "          google.colab.kernel.accessAllowed ? 'block' : 'none';\n",
              "\n",
              "        async function convertToInteractive(key) {\n",
              "          const element = document.querySelector('#df-f31f96d7-25ae-463b-89b6-6a889157ba45');\n",
              "          const dataTable =\n",
              "            await google.colab.kernel.invokeFunction('convertToInteractive',\n",
              "                                                     [key], {});\n",
              "          if (!dataTable) return;\n",
              "\n",
              "          const docLinkHtml = 'Like what you see? Visit the ' +\n",
              "            '<a target=\"_blank\" href=https://colab.research.google.com/notebooks/data_table.ipynb>data table notebook</a>'\n",
              "            + ' to learn more about interactive tables.';\n",
              "          element.innerHTML = '';\n",
              "          dataTable['output_type'] = 'display_data';\n",
              "          await google.colab.output.renderOutput(dataTable, element);\n",
              "          const docLink = document.createElement('div');\n",
              "          docLink.innerHTML = docLinkHtml;\n",
              "          element.appendChild(docLink);\n",
              "        }\n",
              "      </script>\n",
              "    </div>\n",
              "  </div>\n",
              "  "
            ],
            "text/plain": [
              "       Item_Weight  ...  Item_Outlet_Sales\n",
              "count  7060.000000  ...        8523.000000\n",
              "mean     12.857645  ...        2181.288914\n",
              "std       4.643456  ...        1706.499616\n",
              "min       4.555000  ...          33.290000\n",
              "25%       8.773750  ...         834.247400\n",
              "50%      12.600000  ...        1794.331000\n",
              "75%      16.850000  ...        3101.296400\n",
              "max      21.350000  ...       13086.964800\n",
              "\n",
              "[8 rows x 5 columns]"
            ]
          },
          "metadata": {},
          "execution_count": 4
        }
      ]
    },
    {
      "cell_type": "markdown",
      "source": [
        "----------------\n",
        "> ### **Statistical Observations**\n",
        "* mean for `Item_Weight` $\\approx$ 12.86\n",
        "* mean for `Item_Visibiliy` $\\approx$ .066 \n",
        "  * this seems low, it's at about 6/7%\n",
        "* mean for`Item_MRP` $\\approx$ 140.99, with standard deviation $\\approx$ 62.27\n",
        "  * which means there is a signnificant different betweent the observed values and the mean and therefore significant variation in the data\n",
        "* mean for `Item_Outlet_Sales` $\\approx$ 2181.29 with standard deviation $\\approx$ 1706.49 which mean a lot of variation in this data\n",
        "----------------"
      ],
      "metadata": {
        "id": "9QJPSGTvVenC"
      }
    },
    {
      "cell_type": "code",
      "metadata": {
        "colab": {
          "base_uri": "https://localhost:8080/"
        },
        "id": "5lVAtV8lAZxO",
        "outputId": "587e8950-4171-4995-b184-2fba202f5b36"
      },
      "source": [
        "#exploration of the types of values in Item Fat Content column\n",
        "sales_data.Item_Fat_Content.value_counts()"
      ],
      "execution_count": 5,
      "outputs": [
        {
          "output_type": "execute_result",
          "data": {
            "text/plain": [
              "Low Fat    5089\n",
              "Regular    2889\n",
              "LF          316\n",
              "reg         117\n",
              "low fat     112\n",
              "Name: Item_Fat_Content, dtype: int64"
            ]
          },
          "metadata": {},
          "execution_count": 5
        }
      ]
    },
    {
      "cell_type": "markdown",
      "metadata": {
        "id": "VkPpnUoXDc_5"
      },
      "source": [
        "--------------\n",
        "* there are only 2 types of Fat Contents `Low Fat`, `Regular`\n",
        "but we see here that there are 3 other labels `LF`, `reg` and `low fat` which mean the same things. \n",
        "* these need to be replaces so that there are only two word representing each type of fat content"
      ]
    },
    {
      "cell_type": "code",
      "metadata": {
        "colab": {
          "base_uri": "https://localhost:8080/"
        },
        "id": "OiCnd7C-BHfW",
        "outputId": "4fa8e783-5eea-4c0a-aefe-8acad57a0575"
      },
      "source": [
        "#replaces abbreviated terms with full phrases\n",
        "sales_data['Item_Fat_Content'].replace({\"reg\":\"Regular\",\"low fat\":\"Low Fat\", \"Low Far\":\"Low Fat\", \"LF\": \"Low Fat\"}, inplace=True)\n",
        "sales_data.Item_Fat_Content.value_counts()"
      ],
      "execution_count": 6,
      "outputs": [
        {
          "output_type": "execute_result",
          "data": {
            "text/plain": [
              "Low Fat    5517\n",
              "Regular    3006\n",
              "Name: Item_Fat_Content, dtype: int64"
            ]
          },
          "metadata": {},
          "execution_count": 6
        }
      ]
    },
    {
      "cell_type": "code",
      "metadata": {
        "colab": {
          "base_uri": "https://localhost:8080/"
        },
        "id": "upXPsjKiCXbO",
        "outputId": "93a3b8dd-72af-4f60-cbcb-e3837389bbd6"
      },
      "source": [
        "#explore the types of values in the Item Type column\n",
        "sales_data['Item_Type'].value_counts()"
      ],
      "execution_count": 7,
      "outputs": [
        {
          "output_type": "execute_result",
          "data": {
            "text/plain": [
              "Fruits and Vegetables    1232\n",
              "Snack Foods              1200\n",
              "Household                 910\n",
              "Frozen Foods              856\n",
              "Dairy                     682\n",
              "Canned                    649\n",
              "Baking Goods              648\n",
              "Health and Hygiene        520\n",
              "Soft Drinks               445\n",
              "Meat                      425\n",
              "Breads                    251\n",
              "Hard Drinks               214\n",
              "Others                    169\n",
              "Starchy Foods             148\n",
              "Breakfast                 110\n",
              "Seafood                    64\n",
              "Name: Item_Type, dtype: int64"
            ]
          },
          "metadata": {},
          "execution_count": 7
        }
      ]
    },
    {
      "cell_type": "markdown",
      "metadata": {
        "id": "QwzQJLAzDYq4"
      },
      "source": [
        "* contains all distinct item names"
      ]
    },
    {
      "cell_type": "code",
      "metadata": {
        "colab": {
          "base_uri": "https://localhost:8080/"
        },
        "id": "BUzM8W3VDQck",
        "outputId": "fe906ca3-2edd-4785-abaa-2c57214d7402"
      },
      "source": [
        "#exploration of types of values in the Outlet_Type column\n",
        "sales_data['Outlet_Type'].value_counts()"
      ],
      "execution_count": 8,
      "outputs": [
        {
          "output_type": "execute_result",
          "data": {
            "text/plain": [
              "Supermarket Type1    5577\n",
              "Grocery Store        1083\n",
              "Supermarket Type3     935\n",
              "Supermarket Type2     928\n",
              "Name: Outlet_Type, dtype: int64"
            ]
          },
          "metadata": {},
          "execution_count": 8
        }
      ]
    },
    {
      "cell_type": "markdown",
      "source": [
        "> ### **Duplicate Data**"
      ],
      "metadata": {
        "id": "zX8M3cbakD7B"
      }
    },
    {
      "cell_type": "code",
      "source": [
        "print(f'{sales_data.duplicated().sum()} duplicates')"
      ],
      "metadata": {
        "colab": {
          "base_uri": "https://localhost:8080/"
        },
        "id": "AQ7zF02zkAZX",
        "outputId": "b93c9490-63e1-42e9-fdfc-fbac10b8c844"
      },
      "execution_count": 9,
      "outputs": [
        {
          "output_type": "stream",
          "name": "stdout",
          "text": [
            "0 duplicates\n"
          ]
        }
      ]
    },
    {
      "cell_type": "markdown",
      "source": [
        "### **Exploratory Data Visualization**"
      ],
      "metadata": {
        "id": "UD0_FB_BZ_sn"
      }
    },
    {
      "cell_type": "code",
      "source": [
        "#import libraries for data visualizations\n",
        "import matplotlib.pyplot as plt\n",
        "import seaborn as sns"
      ],
      "metadata": {
        "id": "jH5Uh7QRaKQs"
      },
      "execution_count": 10,
      "outputs": []
    },
    {
      "cell_type": "code",
      "source": [
        "sales_data.groupby(by='Outlet_Type')['Item_Outlet_Sales'].count().sort_values(ascending=False).plot(kind='bar')\n",
        "plt.ylabel('Number of Outlet Sales')\n",
        "plt.title('Sales per Outlet Type', fontsize=14);"
      ],
      "metadata": {
        "colab": {
          "base_uri": "https://localhost:8080/",
          "height": 384
        },
        "id": "cV4QFFIMKmJh",
        "outputId": "428cf59d-62b4-489a-e2e5-26ce5112d73e"
      },
      "execution_count": 11,
      "outputs": [
        {
          "output_type": "display_data",
          "data": {
            "image/png": "[encoded data removed]",
            "text/plain": [
              "<Figure size 432x288 with 1 Axes>"
            ]
          },
          "metadata": {
            "needs_background": "light"
          }
        }
      ]
    },
    {
      "cell_type": "markdown",
      "source": [
        "<mark> *plot comparing the outlet type with the number of outlet sales* </mark>\n",
        "\n",
        "----------\n",
        "- here we see that supermarket type one has significantly more sales that any of the other types of stores"
      ],
      "metadata": {
        "id": "be85084I31cA"
      }
    },
    {
      "cell_type": "code",
      "source": [
        "sales_data['Outlet_Size'].value_counts()\n",
        "\n",
        "sales_data.groupby(by='Outlet_Size')['Item_Outlet_Sales'].mean().sort_values(ascending=False).plot(kind='bar');\n",
        "plt.ylabel('Average Outlet Sales')\n",
        "plt.title('Sales per Outlet Size', fontsize=14);"
      ],
      "metadata": {
        "colab": {
          "base_uri": "https://localhost:8080/",
          "height": 326
        },
        "id": "afkBotNCMhHH",
        "outputId": "61deca13-b818-4837-f797-46deeb99798d"
      },
      "execution_count": 12,
      "outputs": [
        {
          "output_type": "display_data",
          "data": {
            "image/png": "[encoded data removed]",
            "text/plain": [
              "<Figure size 432x288 with 1 Axes>"
            ]
          },
          "metadata": {
            "needs_background": "light"
          }
        }
      ]
    },
    {
      "cell_type": "markdown",
      "source": [
        "<mark>*plot comparing outlet size and average outlet sales*</mark>\n",
        "\n",
        "--------\n",
        "\n",
        "- interestingly the Medium sized stores have the higher average outlet size, in opposition with my original hypothesis\n",
        "  - althouh the differences aren't very large"
      ],
      "metadata": {
        "id": "AUxF65o1ah-q"
      }
    },
    {
      "cell_type": "markdown",
      "source": [
        "- seems like this should be \"large\" instead of \"high\"\n",
        "- let's change that..."
      ],
      "metadata": {
        "id": "RIkDlWXqa_4p"
      }
    },
    {
      "cell_type": "code",
      "source": [
        "#replacing high with large for outlet size column\n",
        "sales_data['Outlet_Size'].replace({\"High\":\"Large\"}, inplace=True)\n",
        "sales_data.Outlet_Size.value_counts()"
      ],
      "metadata": {
        "colab": {
          "base_uri": "https://localhost:8080/"
        },
        "id": "eo8nEHx5bZk4",
        "outputId": "558effb3-22cd-493b-cbdb-d65b5a2178a0"
      },
      "execution_count": 13,
      "outputs": [
        {
          "output_type": "execute_result",
          "data": {
            "text/plain": [
              "Medium    2793\n",
              "Small     2388\n",
              "Large      932\n",
              "Name: Outlet_Size, dtype: int64"
            ]
          },
          "metadata": {},
          "execution_count": 13
        }
      ]
    },
    {
      "cell_type": "code",
      "source": [
        "sales_data['Outlet_Size'].value_counts()\n",
        "\n",
        "sales_data.groupby(by='Outlet_Size')['Item_Outlet_Sales'].count().sort_values(ascending=False).plot(kind='bar');\n",
        "plt.ylabel('Number of Outlet Sales')\n",
        "plt.title('Sales per Outlet Size', fontsize=14);"
      ],
      "metadata": {
        "colab": {
          "base_uri": "https://localhost:8080/",
          "height": 326
        },
        "id": "Q4VnqKWINz59",
        "outputId": "f835be5f-a002-401f-d5e7-16941faec4ca"
      },
      "execution_count": 14,
      "outputs": [
        {
          "output_type": "display_data",
          "data": {
            "image/png": "[encoded data removed]",
            "text/plain": [
              "<Figure size 432x288 with 1 Axes>"
            ]
          },
          "metadata": {
            "needs_background": "light"
          }
        }
      ]
    },
    {
      "cell_type": "markdown",
      "source": [
        "- this shows that of all the sizes store there are more `Medium` and `Small` sized stores than `Large` stores which means that size of the store does not infact dictate the number of sales"
      ],
      "metadata": {
        "id": "k8fNnxNWb35F"
      }
    },
    {
      "cell_type": "markdown",
      "source": [
        "## **Exploring Data Types (Continuous v. Categorical)**"
      ],
      "metadata": {
        "id": "Mbsz6LN8hsy6"
      }
    },
    {
      "cell_type": "code",
      "source": [
        "sales_data.head()"
      ],
      "metadata": {
        "colab": {
          "base_uri": "https://localhost:8080/",
          "height": 357
        },
        "id": "aMzKPndFiwcP",
        "outputId": "c7d211fd-e1af-454d-87f1-d343d0b472c6"
      },
      "execution_count": 15,
      "outputs": [
        {
          "output_type": "execute_result",
          "data": {
            "text/html": [
              "\n",
              "  <div id=\"df-b0a4a831-aa6a-4848-9dd1-221776ce17e0\">\n",
              "    <div class=\"colab-df-container\">\n",
              "      <div>\n",
              "<style scoped>\n",
              "    .dataframe tbody tr th:only-of-type {\n",
              "        vertical-align: middle;\n",
              "    }\n",
              "\n",
              "    .dataframe tbody tr th {\n",
              "        vertical-align: top;\n",
              "    }\n",
              "\n",
              "    .dataframe thead th {\n",
              "        text-align: right;\n",
              "    }\n",
              "</style>\n",
              "<table border=\"1\" class=\"dataframe\">\n",
              "  <thead>\n",
              "    <tr style=\"text-align: right;\">\n",
              "      <th></th>\n",
              "      <th>Item_Identifier</th>\n",
              "      <th>Item_Weight</th>\n",
              "      <th>Item_Fat_Content</th>\n",
              "      <th>Item_Visibility</th>\n",
              "      <th>Item_Type</th>\n",
              "      <th>Item_MRP</th>\n",
              "      <th>Outlet_Identifier</th>\n",
              "      <th>Outlet_Establishment_Year</th>\n",
              "      <th>Outlet_Size</th>\n",
              "      <th>Outlet_Location_Type</th>\n",
              "      <th>Outlet_Type</th>\n",
              "      <th>Item_Outlet_Sales</th>\n",
              "    </tr>\n",
              "  </thead>\n",
              "  <tbody>\n",
              "    <tr>\n",
              "      <th>0</th>\n",
              "      <td>FDA15</td>\n",
              "      <td>9.30</td>\n",
              "      <td>Low Fat</td>\n",
              "      <td>0.016047</td>\n",
              "      <td>Dairy</td>\n",
              "      <td>249.8092</td>\n",
              "      <td>OUT049</td>\n",
              "      <td>1999</td>\n",
              "      <td>Medium</td>\n",
              "      <td>Tier 1</td>\n",
              "      <td>Supermarket Type1</td>\n",
              "      <td>3735.1380</td>\n",
              "    </tr>\n",
              "    <tr>\n",
              "      <th>1</th>\n",
              "      <td>DRC01</td>\n",
              "      <td>5.92</td>\n",
              "      <td>Regular</td>\n",
              "      <td>0.019278</td>\n",
              "      <td>Soft Drinks</td>\n",
              "      <td>48.2692</td>\n",
              "      <td>OUT018</td>\n",
              "      <td>2009</td>\n",
              "      <td>Medium</td>\n",
              "      <td>Tier 3</td>\n",
              "      <td>Supermarket Type2</td>\n",
              "      <td>443.4228</td>\n",
              "    </tr>\n",
              "    <tr>\n",
              "      <th>2</th>\n",
              "      <td>FDN15</td>\n",
              "      <td>17.50</td>\n",
              "      <td>Low Fat</td>\n",
              "      <td>0.016760</td>\n",
              "      <td>Meat</td>\n",
              "      <td>141.6180</td>\n",
              "      <td>OUT049</td>\n",
              "      <td>1999</td>\n",
              "      <td>Medium</td>\n",
              "      <td>Tier 1</td>\n",
              "      <td>Supermarket Type1</td>\n",
              "      <td>2097.2700</td>\n",
              "    </tr>\n",
              "    <tr>\n",
              "      <th>3</th>\n",
              "      <td>FDX07</td>\n",
              "      <td>19.20</td>\n",
              "      <td>Regular</td>\n",
              "      <td>0.000000</td>\n",
              "      <td>Fruits and Vegetables</td>\n",
              "      <td>182.0950</td>\n",
              "      <td>OUT010</td>\n",
              "      <td>1998</td>\n",
              "      <td>NaN</td>\n",
              "      <td>Tier 3</td>\n",
              "      <td>Grocery Store</td>\n",
              "      <td>732.3800</td>\n",
              "    </tr>\n",
              "    <tr>\n",
              "      <th>4</th>\n",
              "      <td>NCD19</td>\n",
              "      <td>8.93</td>\n",
              "      <td>Low Fat</td>\n",
              "      <td>0.000000</td>\n",
              "      <td>Household</td>\n",
              "      <td>53.8614</td>\n",
              "      <td>OUT013</td>\n",
              "      <td>1987</td>\n",
              "      <td>Large</td>\n",
              "      <td>Tier 3</td>\n",
              "      <td>Supermarket Type1</td>\n",
              "      <td>994.7052</td>\n",
              "    </tr>\n",
              "  </tbody>\n",
              "</table>\n",
              "</div>\n",
              "      <button class=\"colab-df-convert\" onclick=\"convertToInteractive('df-b0a4a831-aa6a-4848-9dd1-221776ce17e0')\"\n",
              "              title=\"Convert this dataframe to an interactive table.\"\n",
              "              style=\"display:none;\">\n",
              "        \n",
              "  <svg xmlns=\"http://www.w3.org/2000/svg\" height=\"24px\"viewBox=\"0 0 24 24\"\n",
              "       width=\"24px\">\n",
              "    <path d=\"M0 0h24v24H0V0z\" fill=\"none\"/>\n",
              "    <path d=\"M18.56 5.44l.94 2.06.94-2.06 2.06-.94-2.06-.94-.94-2.06-.94 2.06-2.06.94zm-11 1L8.5 8.5l.94-2.06 2.06-.94-2.06-.94L8.5 2.5l-.94 2.06-2.06.94zm10 10l.94 2.06.94-2.06 2.06-.94-2.06-.94-.94-2.06-.94 2.06-2.06.94z\"/><path d=\"M17.41 7.96l-1.37-1.37c-.4-.4-.92-.59-1.43-.59-.52 0-1.04.2-1.43.59L10.3 9.45l-7.72 7.72c-.78.78-.78 2.05 0 2.83L4 21.41c.39.39.9.59 1.41.59.51 0 1.02-.2 1.41-.59l7.78-7.78 2.81-2.81c.8-.78.8-2.07 0-2.86zM5.41 20L4 18.59l7.72-7.72 1.47 1.35L5.41 20z\"/>\n",
              "  </svg>\n",
              "      </button>\n",
              "      \n",
              "  <style>\n",
              "    .colab-df-container {\n",
              "      display:flex;\n",
              "      flex-wrap:wrap;\n",
              "      gap: 12px;\n",
              "    }\n",
              "\n",
              "    .colab-df-convert {\n",
              "      background-color: #E8F0FE;\n",
              "      border: none;\n",
              "      border-radius: 50%;\n",
              "      cursor: pointer;\n",
              "      display: none;\n",
              "      fill: #1967D2;\n",
              "      height: 32px;\n",
              "      padding: 0 0 0 0;\n",
              "      width: 32px;\n",
              "    }\n",
              "\n",
              "    .colab-df-convert:hover {\n",
              "      background-color: #E2EBFA;\n",
              "      box-shadow: 0px 1px 2px rgba(60, 64, 67, 0.3), 0px 1px 3px 1px rgba(60, 64, 67, 0.15);\n",
              "      fill: #174EA6;\n",
              "    }\n",
              "\n",
              "    [theme=dark] .colab-df-convert {\n",
              "      background-color: #3B4455;\n",
              "      fill: #D2E3FC;\n",
              "    }\n",
              "\n",
              "    [theme=dark] .colab-df-convert:hover {\n",
              "      background-color: #434B5C;\n",
              "      box-shadow: 0px 1px 3px 1px rgba(0, 0, 0, 0.15);\n",
              "      filter: drop-shadow(0px 1px 2px rgba(0, 0, 0, 0.3));\n",
              "      fill: #FFFFFF;\n",
              "    }\n",
              "  </style>\n",
              "\n",
              "      <script>\n",
              "        const buttonEl =\n",
              "          document.querySelector('#df-b0a4a831-aa6a-4848-9dd1-221776ce17e0 button.colab-df-convert');\n",
              "        buttonEl.style.display =\n",
              "          google.colab.kernel.accessAllowed ? 'block' : 'none';\n",
              "\n",
              "        async function convertToInteractive(key) {\n",
              "          const element = document.querySelector('#df-b0a4a831-aa6a-4848-9dd1-221776ce17e0');\n",
              "          const dataTable =\n",
              "            await google.colab.kernel.invokeFunction('convertToInteractive',\n",
              "                                                     [key], {});\n",
              "          if (!dataTable) return;\n",
              "\n",
              "          const docLinkHtml = 'Like what you see? Visit the ' +\n",
              "            '<a target=\"_blank\" href=https://colab.research.google.com/notebooks/data_table.ipynb>data table notebook</a>'\n",
              "            + ' to learn more about interactive tables.';\n",
              "          element.innerHTML = '';\n",
              "          dataTable['output_type'] = 'display_data';\n",
              "          await google.colab.output.renderOutput(dataTable, element);\n",
              "          const docLink = document.createElement('div');\n",
              "          docLink.innerHTML = docLinkHtml;\n",
              "          element.appendChild(docLink);\n",
              "        }\n",
              "      </script>\n",
              "    </div>\n",
              "  </div>\n",
              "  "
            ],
            "text/plain": [
              "  Item_Identifier  Item_Weight  ...        Outlet_Type  Item_Outlet_Sales\n",
              "0           FDA15         9.30  ...  Supermarket Type1          3735.1380\n",
              "1           DRC01         5.92  ...  Supermarket Type2           443.4228\n",
              "2           FDN15        17.50  ...  Supermarket Type1          2097.2700\n",
              "3           FDX07        19.20  ...      Grocery Store           732.3800\n",
              "4           NCD19         8.93  ...  Supermarket Type1           994.7052\n",
              "\n",
              "[5 rows x 12 columns]"
            ]
          },
          "metadata": {},
          "execution_count": 15
        }
      ]
    },
    {
      "cell_type": "markdown",
      "metadata": {
        "id": "UD9JTMwY-Jtz"
      },
      "source": [
        "- `Item_Identifier`\t- categorical\n",
        "- `Item_Weight`\t- continuous\n",
        "- `Item_Visibility`\t- continuous\n",
        "- `Item_Type`\t- categorical\n",
        "- `Item_MRP` - continous\n",
        "- `Outlet_Identifier`\t- categorical\n",
        "- `Outlet_Establishment_Year`\t- categorical\n",
        "- `Outlet_Location_Type` - categorical\n",
        "- `Outlet_Type`\t- categorical\n",
        "- `Item_Outlet_Sales` - continuous"
      ]
    },
    {
      "cell_type": "code",
      "metadata": {
        "colab": {
          "base_uri": "https://localhost:8080/"
        },
        "id": "7X8chEdPrtRJ",
        "outputId": "b45f7d9b-026e-4207-cf89-9a352f586167"
      },
      "source": [
        "sales_data['Item_Identifier'].value_counts()"
      ],
      "execution_count": 16,
      "outputs": [
        {
          "output_type": "execute_result",
          "data": {
            "text/plain": [
              "FDW13    10\n",
              "FDG33    10\n",
              "NCY18     9\n",
              "FDD38     9\n",
              "DRE49     9\n",
              "         ..\n",
              "FDY43     1\n",
              "FDQ60     1\n",
              "FDO33     1\n",
              "DRF48     1\n",
              "FDC23     1\n",
              "Name: Item_Identifier, Length: 1559, dtype: int64"
            ]
          },
          "metadata": {},
          "execution_count": 16
        }
      ]
    },
    {
      "cell_type": "markdown",
      "metadata": {
        "id": "wTpceGxmRSSJ"
      },
      "source": [
        "- `Item_Identifier` has 1559 unique values which would each be a column if they would one hot encoded, this column will be dropped"
      ]
    },
    {
      "cell_type": "code",
      "metadata": {
        "id": "n8pwWcvvrcwv"
      },
      "source": [
        "sales_data = sales_data.drop(columns='Item_Identifier')\n",
        "##sales_data.head()"
      ],
      "execution_count": 17,
      "outputs": []
    },
    {
      "cell_type": "code",
      "metadata": {
        "id": "dPFDqfdl-CM7"
      },
      "source": [
        "#import machine learning libraries and methods\n",
        "from sklearn.metrics import r2_score, mean_absolute_error, mean_squared_error, median_absolute_error\n",
        "from sklearn.linear_model import LinearRegression\n",
        "from sklearn.model_selection import train_test_split\n",
        "from sklearn.dummy import DummyRegressor\n",
        "import numpy as np\n",
        "from sklearn.compose import make_column_selector, make_column_transformer\n",
        "from sklearn.impute import SimpleImputer\n",
        "from sklearn.preprocessing import OneHotEncoder, StandardScaler\n",
        "from sklearn.pipeline import make_pipeline\n"
      ],
      "execution_count": 18,
      "outputs": []
    },
    {
      "cell_type": "code",
      "metadata": {
        "id": "D-qKScazBIiU"
      },
      "source": [
        "#assign Item_Outlet_Sales column as your target and rest of variables as feature matrix\n",
        "y = sales_data['Item_Outlet_Sales']\n",
        "X = sales_data.drop(columns='Item_Outlet_Sales')"
      ],
      "execution_count": 19,
      "outputs": []
    },
    {
      "cell_type": "code",
      "metadata": {
        "id": "5G22kmGJE1LD"
      },
      "source": [
        "#create train, test, split\n",
        "X_train, X_test, y_train, y_test = train_test_split(X, y, random_state=42)"
      ],
      "execution_count": 20,
      "outputs": []
    },
    {
      "cell_type": "markdown",
      "source": [
        "## **Preprocessing Data**"
      ],
      "metadata": {
        "id": "e23dgsS0jfTT"
      }
    },
    {
      "cell_type": "code",
      "metadata": {
        "colab": {
          "base_uri": "https://localhost:8080/"
        },
        "id": "uNjYjNn8PaPR",
        "outputId": "df0c39eb-a333-4a0d-d18e-bb43476057b1"
      },
      "source": [
        "#instatiate the selectors for numerical and categorical\n",
        "num_selector = make_column_selector(dtype_include='number')\n",
        "cat_selector = make_column_selector(dtype_include='object')\n",
        "\n",
        "num_columns = num_selector(X_train)\n",
        "cat_columns = cat_selector(X_train)\n",
        "\n",
        "print('numeric columns are', num_columns)\n",
        "print('categorical columns are', cat_columns)\n",
        "\n"
      ],
      "execution_count": 21,
      "outputs": [
        {
          "output_type": "stream",
          "name": "stdout",
          "text": [
            "numeric columns are ['Item_Weight', 'Item_Visibility', 'Item_MRP', 'Outlet_Establishment_Year']\n",
            "categorical columns are ['Item_Fat_Content', 'Item_Type', 'Outlet_Identifier', 'Outlet_Size', 'Outlet_Location_Type', 'Outlet_Type']\n"
          ]
        }
      ]
    },
    {
      "cell_type": "code",
      "metadata": {
        "id": "P2IqrQn8RhRo"
      },
      "source": [
        "#instantiate imputer with mean strategy\n",
        "mean_imputer = SimpleImputer(strategy='mean')\n",
        "#instantiate imputer with most frequent strategy\n",
        "freq_imputer = SimpleImputer(strategy='most_frequent')\n",
        "#instantiate one hot encoder\n",
        "ohe_encoder = OneHotEncoder(sparse=False, handle_unknown='ignore')\n",
        "\n",
        "\n",
        "#match transformation to type of column\n",
        "num_tuple = (mean_imputer, num_selector)\n",
        "ohe_tuple = (ohe_encoder, cat_selector)\n",
        "cat_pipe = make_pipeline(freq_imputer,ohe_encoder)\n",
        "cat_tuple = (cat_pipe, cat_selector)\n",
        "\n",
        "column_transformer = make_column_transformer(num_tuple,cat_tuple)"
      ],
      "execution_count": 22,
      "outputs": []
    },
    {
      "cell_type": "code",
      "metadata": {
        "id": "qv4MskifTF36"
      },
      "source": [
        "#instantiate linear regression\n",
        "lin_reg = LinearRegression()\n",
        "#instatiate pipeline\n",
        "lin_reg_pipe = make_pipeline(column_transformer, lin_reg)\n"
      ],
      "execution_count": 23,
      "outputs": []
    },
    {
      "cell_type": "code",
      "metadata": {
        "colab": {
          "base_uri": "https://localhost:8080/"
        },
        "id": "G1wH-beXWXy3",
        "outputId": "1d5ec887-3586-46d8-af84-64fe79a4f652"
      },
      "source": [
        "#fit pipeline one the training data\n",
        "lin_reg_pipe.fit(X_train, y_train)"
      ],
      "execution_count": 24,
      "outputs": [
        {
          "output_type": "execute_result",
          "data": {
            "text/plain": [
              "Pipeline(steps=[('columntransformer',\n",
              "                 ColumnTransformer(transformers=[('simpleimputer',\n",
              "                                                  SimpleImputer(),\n",
              "                                                  <sklearn.compose._column_transformer.make_column_selector object at 0x7f7fb47e7690>),\n",
              "                                                 ('pipeline',\n",
              "                                                  Pipeline(steps=[('simpleimputer',\n",
              "                                                                   SimpleImputer(strategy='most_frequent')),\n",
              "                                                                  ('onehotencoder',\n",
              "                                                                   OneHotEncoder(handle_unknown='ignore',\n",
              "                                                                                 sparse=False))]),\n",
              "                                                  <sklearn.compose._column_transformer.make_column_selector object at 0x7f7fc8224190>)])),\n",
              "                ('linearregression', LinearRegression())])"
            ]
          },
          "metadata": {},
          "execution_count": 24
        }
      ]
    },
    {
      "cell_type": "code",
      "metadata": {
        "colab": {
          "base_uri": "https://localhost:8080/"
        },
        "id": "aZUOuf03YVdr",
        "outputId": "40ea393f-3106-4685-a32a-d74ac6fa1cb7"
      },
      "source": [
        "print(f'Train R2 score: {r2_score(y_train, lin_reg_pipe.predict(X_train))}')\n",
        "print(f'Test R2 score: {r2_score(y_test, lin_reg_pipe.predict(X_test))}')"
      ],
      "execution_count": 25,
      "outputs": [
        {
          "output_type": "stream",
          "name": "stdout",
          "text": [
            "Train R2 score: 0.5615551419174629\n",
            "Test R2 score: 0.5671041872384912\n"
          ]
        }
      ]
    },
    {
      "cell_type": "markdown",
      "metadata": {
        "id": "N94ejxLcuujF"
      },
      "source": [
        "* this is a pretty low score but the test and training scores are close to each other so the model is a good fit\n",
        "* Linear Regression doesn't have as many parameters to tune so maybe another model would be better suited."
      ]
    },
    {
      "cell_type": "code",
      "metadata": {
        "colab": {
          "base_uri": "https://localhost:8080/"
        },
        "id": "fk37neshnnv7",
        "outputId": "abbda568-6bc5-4adb-ddd1-013e69d7cc37"
      },
      "source": [
        "#root mean squared error (RMSE)\n",
        "RMSE_test = np.sqrt(mean_squared_error(y_test, lin_reg_pipe.predict(X_test)))\n",
        "RMSE_train = np.sqrt(mean_squared_error(y_train, lin_reg_pipe.predict(X_train)))\n",
        "print(f'Root Mean Squared Error(test): {RMSE_test}')\n",
        "print(f'Root Mean Squared Error(train): {RMSE_train}')"
      ],
      "execution_count": 26,
      "outputs": [
        {
          "output_type": "stream",
          "name": "stdout",
          "text": [
            "Root Mean Squared Error(test): 1092.8630817241494\n",
            "Root Mean Squared Error(train): 1139.1040937388918\n"
          ]
        }
      ]
    },
    {
      "cell_type": "markdown",
      "metadata": {
        "id": "F8kRbxGo1G-6"
      },
      "source": [
        "* RMSE - measure of magnitude of a set of numbers\n",
        "* eg. {-2,5, -8, 9,-4} has RMSE: 6.16"
      ]
    },
    {
      "cell_type": "markdown",
      "source": [
        "## **Model Selection Process**\n",
        "\n",
        "In this section I try several different regression models. The models are compared using a few different regression metrics to determine which model should be used in production and then will be hyperparameter tuned to predict sales more accurately."
      ],
      "metadata": {
        "id": "JivJnQOFKV3u"
      }
    },
    {
      "cell_type": "markdown",
      "source": [
        "### **Decision Tree Model**"
      ],
      "metadata": {
        "id": "C2i5NxcsnO9L"
      }
    },
    {
      "cell_type": "code",
      "metadata": {
        "id": "XqrWClM1mdWA",
        "colab": {
          "base_uri": "https://localhost:8080/"
        },
        "outputId": "9f7f3d4b-b136-405e-9c17-b736633fc060"
      },
      "source": [
        "from sklearn.tree import DecisionTreeRegressor\n",
        "\n",
        "#instantiate decision tree model\n",
        "dec_tree = DecisionTreeRegressor(random_state=42)\n",
        "#instatiate pipeline\n",
        "dt_pipe = make_pipeline(column_transformer, dec_tree)\n",
        "#fit pipeline one the training data\n",
        "dt_pipe.fit(X_train, y_train)\n"
      ],
      "execution_count": 34,
      "outputs": [
        {
          "output_type": "execute_result",
          "data": {
            "text/plain": [
              "Pipeline(steps=[('columntransformer',\n",
              "                 ColumnTransformer(transformers=[('simpleimputer',\n",
              "                                                  SimpleImputer(),\n",
              "                                                  <sklearn.compose._column_transformer.make_column_selector object at 0x7f7fb47e7690>),\n",
              "                                                 ('pipeline',\n",
              "                                                  Pipeline(steps=[('simpleimputer',\n",
              "                                                                   SimpleImputer(strategy='most_frequent')),\n",
              "                                                                  ('onehotencoder',\n",
              "                                                                   OneHotEncoder(handle_unknown='ignore',\n",
              "                                                                                 sparse=False))]),\n",
              "                                                  <sklearn.compose._column_transformer.make_column_selector object at 0x7f7fc8224190>)])),\n",
              "                ('decisiontreeregressor',\n",
              "                 DecisionTreeRegressor(random_state=42))])"
            ]
          },
          "metadata": {},
          "execution_count": 34
        }
      ]
    },
    {
      "cell_type": "code",
      "source": [
        "#root mean squared error (RMSE)\n",
        "RMSE_test_dt = np.sqrt(mean_squared_error(y_test, dt_pipe.predict(X_test)))\n",
        "RMSE_train_dt = np.sqrt(mean_squared_error(y_train, dt_pipe.predict(X_train)))\n",
        "print(f'Root Mean Squared Error(train) Decision Tree: {RMSE_train_dt}')\n",
        "print(f'Root Mean Squared Error(test) Decision Tree: {RMSE_test_dt}')"
      ],
      "metadata": {
        "colab": {
          "base_uri": "https://localhost:8080/"
        },
        "id": "LrtDGMW_p5yo",
        "outputId": "62dc7e00-9dcb-4856-d4bc-50f84d4b9bf7"
      },
      "execution_count": 42,
      "outputs": [
        {
          "output_type": "stream",
          "name": "stdout",
          "text": [
            "Root Mean Squared Error(train) Decision Tree: 5.50728349323243e-15\n",
            "Root Mean Squared Error(test) Decision Tree: 1500.3626653677372\n"
          ]
        }
      ]
    },
    {
      "cell_type": "code",
      "source": [
        "from sklearn.metrics import r2_score\n",
        "train_score_dt = r2_score(y_train, dt_pipe.predict(X_train))\n",
        "test_score_dt = r2_score(y_test, dt_pipe.predict(X_test))\n",
        "print(f' R2 score (train) Decision Tree: {train_score_dt}')\n",
        "print(f' R2 score (test) Decision Tree: {test_score_dt}')"
      ],
      "metadata": {
        "colab": {
          "base_uri": "https://localhost:8080/"
        },
        "id": "br90hi9KqHVi",
        "outputId": "aa713623-c5b2-4927-ba9d-c1c3acbeb8a2"
      },
      "execution_count": 44,
      "outputs": [
        {
          "output_type": "stream",
          "name": "stdout",
          "text": [
            " R2 score (train) Decision Tree: 1.0\n",
            " R2 score (test) Decision Tree: 0.18408602434746324\n"
          ]
        }
      ]
    },
    {
      "cell_type": "markdown",
      "source": [
        "### **Bagged Tree**"
      ],
      "metadata": {
        "id": "VecPu4T1-sry"
      }
    },
    {
      "cell_type": "code",
      "source": [
        "from sklearn.ensemble import BaggingRegressor\n",
        "\n",
        "#instantiate bagged tree\n",
        "bag_tree = BaggingRegressor(random_state=42)\n",
        "#instantiate pipeline\n",
        "bt_pipe = make_pipeline(column_transformer, bag_tree)\n",
        "#fit pipeline on training data\n",
        "bt_pipe.fit(X_train, y_train)"
      ],
      "metadata": {
        "colab": {
          "base_uri": "https://localhost:8080/"
        },
        "id": "KlHBGJVn-wOf",
        "outputId": "3b5f29e7-3bd8-46d0-90eb-879126290362"
      },
      "execution_count": 35,
      "outputs": [
        {
          "output_type": "execute_result",
          "data": {
            "text/plain": [
              "Pipeline(steps=[('columntransformer',\n",
              "                 ColumnTransformer(transformers=[('simpleimputer',\n",
              "                                                  SimpleImputer(),\n",
              "                                                  <sklearn.compose._column_transformer.make_column_selector object at 0x7f7fb47e7690>),\n",
              "                                                 ('pipeline',\n",
              "                                                  Pipeline(steps=[('simpleimputer',\n",
              "                                                                   SimpleImputer(strategy='most_frequent')),\n",
              "                                                                  ('onehotencoder',\n",
              "                                                                   OneHotEncoder(handle_unknown='ignore',\n",
              "                                                                                 sparse=False))]),\n",
              "                                                  <sklearn.compose._column_transformer.make_column_selector object at 0x7f7fc8224190>)])),\n",
              "                ('baggingregressor', BaggingRegressor(random_state=42))])"
            ]
          },
          "metadata": {},
          "execution_count": 35
        }
      ]
    },
    {
      "cell_type": "code",
      "source": [
        "#root mean squared error (RMSE)\n",
        "RMSE_test_bt = np.sqrt(mean_squared_error(y_test, bt_pipe.predict(X_test)))\n",
        "RMSE_train_bt = np.sqrt(mean_squared_error(y_train, bt_pipe.predict(X_train)))\n",
        "print(f'Root Mean Squared Error(test) Bagged Tree: {RMSE_test_bt}')\n",
        "print(f'Root Mean Squared Error(train) Bagged Tree: {RMSE_train_bt}')"
      ],
      "metadata": {
        "colab": {
          "base_uri": "https://localhost:8080/"
        },
        "id": "YU9WM277AOAr",
        "outputId": "6c2dbfbd-ba85-4332-a6a0-2256ea954ddc"
      },
      "execution_count": 36,
      "outputs": [
        {
          "output_type": "stream",
          "name": "stdout",
          "text": [
            "Root Mean Squared Error(test) Bagged Tree: 1131.3167643333556\n",
            "Root Mean Squared Error(train) Bagged Tree: 492.21730511249837\n"
          ]
        }
      ]
    },
    {
      "cell_type": "code",
      "source": [
        "train_score_bt = r2_score(y_train, bt_pipe.predict(X_train))\n",
        "test_score_bt = r2_score(y_test, bt_pipe.predict(X_test))\n",
        "print(f' R2 score (train) bagged tree: {train_score_bt}')\n",
        "print(f' R2 score (test) bagged tree: {test_score_bt}')"
      ],
      "metadata": {
        "colab": {
          "base_uri": "https://localhost:8080/"
        },
        "id": "df64qcHoAX5P",
        "outputId": "9d62c72a-9cdd-4ae3-b69c-9e96edc860a6"
      },
      "execution_count": 37,
      "outputs": [
        {
          "output_type": "stream",
          "name": "stdout",
          "text": [
            " R2 score (train) bagged tree: 0.9181343126434903\n",
            " R2 score (test) bagged tree: 0.5361043286154861\n"
          ]
        }
      ]
    },
    {
      "cell_type": "markdown",
      "source": [
        "### **Random Forest**"
      ],
      "metadata": {
        "id": "OwbfWkjAAz7z"
      }
    },
    {
      "cell_type": "code",
      "source": [
        "#import library\n",
        "from sklearn.ensemble import RandomForestRegressor\n",
        "#instantiate model\n",
        "rf = RandomForestRegressor(random_state=42)\n",
        "#random forest pipeline\n",
        "rf_pipe = make_pipeline(column_transformer, rf)\n",
        "#fit random forest pipeline\n",
        "rf_pipe.fit(X_train, y_train)"
      ],
      "metadata": {
        "colab": {
          "base_uri": "https://localhost:8080/"
        },
        "id": "K20TtB-GA3Qm",
        "outputId": "8599685c-e28e-4d4d-9468-0c56f7ecf675"
      },
      "execution_count": 40,
      "outputs": [
        {
          "output_type": "execute_result",
          "data": {
            "text/plain": [
              "Pipeline(steps=[('columntransformer',\n",
              "                 ColumnTransformer(transformers=[('simpleimputer',\n",
              "                                                  SimpleImputer(),\n",
              "                                                  <sklearn.compose._column_transformer.make_column_selector object at 0x7f7fb47e7690>),\n",
              "                                                 ('pipeline',\n",
              "                                                  Pipeline(steps=[('simpleimputer',\n",
              "                                                                   SimpleImputer(strategy='most_frequent')),\n",
              "                                                                  ('onehotencoder',\n",
              "                                                                   OneHotEncoder(handle_unknown='ignore',\n",
              "                                                                                 sparse=False))]),\n",
              "                                                  <sklearn.compose._column_transformer.make_column_selector object at 0x7f7fc8224190>)])),\n",
              "                ('randomforestregressor',\n",
              "                 RandomForestRegressor(random_state=42))])"
            ]
          },
          "metadata": {},
          "execution_count": 40
        }
      ]
    },
    {
      "cell_type": "code",
      "source": [
        "#root mean squared error (RMSE)\n",
        "RMSE_test = np.sqrt(mean_squared_error(y_test, rf_pipe.predict(X_test)))\n",
        "RMSE_train = np.sqrt(mean_squared_error(y_train, rf_pipe.predict(X_train)))\n",
        "print(f'Root Mean Squared Error(test) Random Forest: {RMSE_test}')\n",
        "print(f'Root Mean Squared Error(train) Random Forest: {RMSE_train}')"
      ],
      "metadata": {
        "colab": {
          "base_uri": "https://localhost:8080/"
        },
        "id": "VpZHjg56Bgem",
        "outputId": "e9f2d3cd-6cc2-44fc-c6c4-9b0b4aceac94"
      },
      "execution_count": 39,
      "outputs": [
        {
          "output_type": "stream",
          "name": "stdout",
          "text": [
            "Root Mean Squared Error(test) Random Forest: 1102.4803071728284\n",
            "Root Mean Squared Error(train) Random Forest: 427.5883895709499\n"
          ]
        }
      ]
    },
    {
      "cell_type": "code",
      "source": [
        "train_score_rf = r2_score(y_train, rf_pipe.predict(X_train))\n",
        "test_score_rf = r2_score(y_test, rf_pipe.predict(X_test))\n",
        "print(f' R2 score (train) Random Forest: {train_score_rf}')\n",
        "print(f' R2 score (test) Random Forest: {test_score_rf}')"
      ],
      "metadata": {
        "colab": {
          "base_uri": "https://localhost:8080/"
        },
        "id": "yUTCovYQBpfi",
        "outputId": "e0804c26-3236-44db-b5b6-ab784528f654"
      },
      "execution_count": 41,
      "outputs": [
        {
          "output_type": "stream",
          "name": "stdout",
          "text": [
            " R2 score (train) Random Forest: 0.9382211294407168\n",
            " R2 score (test) Random Forest: 0.5594516732429615\n"
          ]
        }
      ]
    },
    {
      "cell_type": "code",
      "source": [
        ""
      ],
      "metadata": {
        "id": "HEPdxDCxB55q"
      },
      "execution_count": null,
      "outputs": []
    }
  ]
}